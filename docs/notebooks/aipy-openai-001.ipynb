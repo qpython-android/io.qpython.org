{
 "cells": [
  {
   "cell_type": "markdown",
   "id": "c6c1e68d-a4b1-4200-a36e-a821862c9ecc",
   "metadata": {},
   "source": [
    "OpenAI是一家专注于推进人工智能（AI）研究和创新的公司。 作为一个OpenAI训练的大型语言模型，而大家熟知的ChatGPT是OpenAI的一项重要成果之一。\n",
    "\n",
    "QPython的OpenAI Python 库可让任何QPython应用程序方便地访问 OpenAI REST API，获得和生成式AI的互动能力。关于OpenAI库的用法，你可以从 https://pypi.org/project/openai/ 获得更多的帮助。"
   ]
  },
  {
   "cell_type": "markdown",
   "id": "040dba04-909f-4eab-aa7d-e2f016a2ad49",
   "metadata": {},
   "source": [
    "导入基本的os和OpenAI库, 其中os库用于后面读取环境变量（能够影响OpenAI配置）"
   ]
  },
  {
   "cell_type": "code",
   "execution_count": 19,
   "id": "0874350f-09f0-4c02-b05a-a4226cf24bac",
   "metadata": {},
   "outputs": [],
   "source": [
    "import os\n",
    "from openai import OpenAI"
   ]
  },
  {
   "cell_type": "markdown",
   "id": "365b948a-1d4c-40b8-a04a-385cb252e197",
   "metadata": {},
   "source": [
    "设定OpenAI参数，在这里，我们可以使用PGPT提供的OpenAI密钥，替换掉下面的<Your PGPT OpenAI key>， Key的申请地址 https://qpython.pgpt.cloud/qpy-get-key"
   ]
  },
  {
   "cell_type": "code",
   "execution_count": 20,
   "id": "1d00e8ff-1830-4a46-85be-5d0b034ffaaa",
   "metadata": {},
   "outputs": [],
   "source": [
    "os.environ[\"OPENAI_API_KEY\"] = \"<Your PGPT OpenAI key>\"\n",
    "os.environ[\"OPENAI_API_BASE\"] = \"https://openai.pgpt.cloud\""
   ]
  },
  {
   "cell_type": "markdown",
   "id": "8c8c4484-9a3a-4030-8430-150876f468b0",
   "metadata": {},
   "source": [
    "初始化OpenAI操作句柄"
   ]
  },
  {
   "cell_type": "code",
   "execution_count": 21,
   "id": "904d2776-9617-4669-a4b7-b7539a0cfc8c",
   "metadata": {},
   "outputs": [],
   "source": [
    "client = OpenAI(\n",
    "    api_key=os.environ.get(\"OPENAI_API_KEY\"),\n",
    "    base_url=os.environ.get(\"OPENAI_API_BASE\")\n",
    "    )"
   ]
  },
  {
   "cell_type": "markdown",
   "id": "326c1af1-45e9-4914-b37d-56ff650fbcf2",
   "metadata": {},
   "source": [
    "调用OpenAI的聊天补全接口，让OpenAI使用gpt-3.5-turbo模型来将这些词组从英文翻译为法语 {'apple': 'pomme', 'table': 'table', 'car': 'voiture', 'beach': 'plage'}"
   ]
  },
  {
   "cell_type": "code",
   "execution_count": 22,
   "id": "0b5f5426-f0b4-4af7-8968-9af747efb7ca",
   "metadata": {},
   "outputs": [],
   "source": [
    "chat_completion = client.chat.completions.create(\n",
    "    messages=[\n",
    "        {\n",
    "            \"role\": \"user\",\n",
    "            \"content\": \"Translate these English words to French: {'apple': 'pomme', 'table': 'table', 'car': 'voiture', 'beach': 'plage'}\",\n",
    "        }\n",
    "    ],\n",
    "    model=\"gpt-3.5-turbo\",\n",
    ")\n"
   ]
  },
  {
   "cell_type": "markdown",
   "id": "d8029b71-8e0a-4327-96fc-65e43f8bbcfb",
   "metadata": {},
   "source": [
    "最后打印结果"
   ]
  },
  {
   "cell_type": "code",
   "execution_count": 23,
   "id": "ab4189df-3f97-454c-8f1a-c74f10fdddc5",
   "metadata": {},
   "outputs": [
    {
     "name": "stdout",
     "output_type": "stream",
     "text": [
      "Choice(finish_reason='stop', index=0, message=ChatCompletionMessage(content=\"{'apple': 'pomme', 'table': 'table', 'car': 'voiture', 'beach': 'plage'}\", role='assistant', function_call=None, tool_calls=None), content_filter_results={'hate': {'filtered': False, 'severity': 'safe'}, 'self_harm': {'filtered': False, 'severity': 'safe'}, 'sexual': {'filtered': False, 'severity': 'safe'}, 'violence': {'filtered': False, 'severity': 'safe'}})\n"
     ]
    }
   ],
   "source": [
    "print(chat_completion.choices[0])"
   ]
  },
  {
   "cell_type": "markdown",
   "id": "4fca79de-d636-409e-a7db-ee4d2853c38c",
   "metadata": {},
   "source": [
    "如果你能成功得到结果，那么恭喜你，到目前为止你就成功运行了一个OpenAI小脚本，你可以试试改变聊天补全里的内容(content里的指令)，来让OpenAI做任何你想要的时候，你也可以试试将最后一个语句改为 print(chat_completion.choices[0].message.content)"
   ]
  },
  {
   "cell_type": "code",
   "execution_count": 24,
   "id": "c36cebf8-674d-4271-8b99-5740525cc957",
   "metadata": {},
   "outputs": [
    {
     "name": "stdout",
     "output_type": "stream",
     "text": [
      "{'apple': 'pomme', 'table': 'table', 'car': 'voiture', 'beach': 'plage'}\n"
     ]
    }
   ],
   "source": [
    "print(chat_completion.choices[0].message.content)"
   ]
  },
  {
   "cell_type": "markdown",
   "id": "92a2abb9-ee63-4f7f-9309-7add5145927a",
   "metadata": {},
   "source": [
    "可以看到，这样就仅仅打印出来了你要求OpenAI翻译后的内容了"
   ]
  }
 ],
 "metadata": {
  "kernelspec": {
   "display_name": "Python 3 (ipykernel)",
   "language": "python",
   "name": "python3"
  },
  "language_info": {
   "codemirror_mode": {
    "name": "ipython",
    "version": 3
   },
   "file_extension": ".py",
   "mimetype": "text/x-python",
   "name": "python",
   "nbconvert_exporter": "python",
   "pygments_lexer": "ipython3",
   "version": "3.9.0"
  }
 },
 "nbformat": 4,
 "nbformat_minor": 5
}
